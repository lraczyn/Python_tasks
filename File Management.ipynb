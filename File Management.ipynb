{
 "cells": [
  {
   "cell_type": "markdown",
   "id": "4da2a362",
   "metadata": {},
   "source": [
    "# File Management\n",
    "\n",
    "Most programs need to read input from somewhere. This section discusses file access.\n",
    "\n",
    "### File Input and Output\n",
    "\n",
    "Open a file.\n",
    "\n",
    "```python\n",
    "f = open('foo.txt', 'rt')     # Open for reading (text)\n",
    "g = open('bar.txt', 'wt')     # Open for writing (text)\n",
    "```\n"
   ]
  },
  {
   "cell_type": "markdown",
   "id": "84bc6ae7",
   "metadata": {},
   "source": [
    "Read all of the data.\n",
    "\n",
    "```python\n",
    "data = f.read()\n",
    "\n",
    "# Read only up to 'maxbytes' bytes\n",
    "data = f.read([maxbytes])\n",
    "```\n",
    "\n",
    "Write some text.\n",
    "\n",
    "```python\n",
    "g.write('some text')\n",
    "```\n",
    "\n",
    "Close when you are done.\n",
    "\n",
    "```python\n",
    "f.close()\n",
    "g.close()\n",
    "```"
   ]
  },
  {
   "cell_type": "markdown",
   "id": "54234e0d",
   "metadata": {},
   "source": [
    "Files should be properly closed and it's an easy step to forget.\n",
    "Thus, the preferred approach is to use the `with` statement like this.\n",
    "\n",
    "```python\n",
    "with open(filename, 'rt') as file:\n",
    "    # Use the file `file`\n",
    "    ...\n",
    "    # No need to close explicitly\n",
    "...statements\n",
    "```\n",
    "\n",
    "This automatically closes the file when control leaves the indented code block."
   ]
  },
  {
   "cell_type": "markdown",
   "id": "80eacf1c",
   "metadata": {},
   "source": [
    "### Common Idioms for Reading File Data\n",
    "\n",
    "Read an entire file all at once as a string.\n",
    "\n",
    "```python\n",
    "with open('foo.txt', 'rt') as file:\n",
    "    data = file.read()\n",
    "    # `data` is a string with all the text in `foo.txt`\n",
    "```\n",
    "\n",
    "Read a file line-by-line by iterating.\n",
    "\n",
    "```python\n",
    "with open(filename, 'rt') as file:\n",
    "    for line in file:\n",
    "        # Process the line\n",
    "```\n",
    "\n",
    "### Common Idioms for Writing to a File\n",
    "\n",
    "Write string data.\n",
    "\n",
    "```python\n",
    "with open('outfile', 'wt') as out:\n",
    "    out.write('Hello World\\n')\n",
    "    ...\n",
    "```\n",
    "\n",
    "Redirect the print function.\n",
    "\n",
    "```python\n",
    "with open('outfile', 'wt') as out:\n",
    "    print('Hello World', file=out)\n",
    "    ...\n",
    "```"
   ]
  },
  {
   "cell_type": "markdown",
   "id": "17bc2ab2",
   "metadata": {},
   "source": [
    "## Exercises\n",
    "Create a function that will create a text file with the given name and write the given string to it."
   ]
  },
  {
   "cell_type": "code",
   "execution_count": 48,
   "id": "2a58706f",
   "metadata": {},
   "outputs": [],
   "source": [
    "def print_to_file(filen_name, string_):\n",
    "    with open(filen_name, 'wt') as file:\n",
    "        file.write(string_)\n",
    "        \n",
    "print_to_file('my_file.txt', 'my text\\nmore text')"
   ]
  },
  {
   "cell_type": "markdown",
   "id": "78dfc407",
   "metadata": {},
   "source": [
    "Open file `data/sample.txt` and print all lines in loop"
   ]
  },
  {
   "cell_type": "code",
   "execution_count": 49,
   "id": "8c135096",
   "metadata": {},
   "outputs": [
    {
     "name": "stdout",
     "output_type": "stream",
     "text": [
      "\"Lorem ipsum dolor sit amet, consectetur adipiscing elit, \n",
      "\n",
      "sed do eiusmod tempor incididunt ut labore et dolore magna \n",
      "\n",
      "aliqua. Ut enim ad minim veniam, quis nostrud exercitation \n",
      "\n",
      "ullamco laboris nisi ut aliquip ex ea commodo consequat.\n",
      "\n",
      " Duis aute irure dolor in reprehenderit in voluptate velit \n",
      "\n",
      "esse cillum dolore eu fugiat nulla pariatur. Excepteur sint\n",
      "\n",
      " occaecat cupidatat non proident, sunt in culpa qui officia\n",
      "\n",
      " deserunt mollit anim id est laborum.\"\n"
     ]
    }
   ],
   "source": [
    "my_file = open('data/sample.txt', 'rt')\n",
    "\n",
    "for line in my_file:\n",
    "    print(line)"
   ]
  },
  {
   "cell_type": "markdown",
   "id": "39db3379",
   "metadata": {},
   "source": [
    "In this task You have to open the same file, but this time print print line without vovels."
   ]
  },
  {
   "cell_type": "code",
   "execution_count": 55,
   "id": "507e145c",
   "metadata": {},
   "outputs": [
    {
     "name": "stdout",
     "output_type": "stream",
     "text": [
      "\"Lrm psm dlr st mt, cnscttr dpscng lt, \n",
      "\n",
      "sd d smd tmpr ncddnt t lbr t dlr mgn \n",
      "\n",
      "lq. t nm d mnm vnm, qs nstrd xrcttn \n",
      "\n",
      "llmc lbrs ns t lqp x  cmmd cnsqt.\n",
      "\n",
      " Ds t rr dlr n rprhndrt n vlptt vlt \n",
      "\n",
      "ss cllm dlr  fgt nll prtr. xcptr snt\n",
      "\n",
      " ccct cpdtt nn prdnt, snt n clp q ffc\n",
      "\n",
      " dsrnt mllt nm d st lbrm.\"\n"
     ]
    }
   ],
   "source": [
    "my_file = open('data/sample.txt', 'rt')\n",
    "\n",
    "volves = 'aeiouAEIOU'\n",
    "for line in my_file:\n",
    "    line_without_volves = [l for l in line if l not in volves]\n",
    "    print(''.join(line_without_volves))\n",
    "    \n",
    "my_file.close()"
   ]
  },
  {
   "cell_type": "markdown",
   "id": "ac5a85df",
   "metadata": {},
   "source": [
    "This time try to update the given file with loaded but text will be in uppercase."
   ]
  },
  {
   "cell_type": "code",
   "execution_count": 62,
   "id": "4e078db7",
   "metadata": {},
   "outputs": [],
   "source": [
    "with open('data/sample.txt', 'r') as file:\n",
    "    with open('data/sample_upper.txt', 'w') as file_2:\n",
    "        for line in file:\n",
    "            file_2.write(line.upper())"
   ]
  },
  {
   "cell_type": "code",
   "execution_count": 63,
   "id": "73517cfe",
   "metadata": {},
   "outputs": [
    {
     "name": "stdout",
     "output_type": "stream",
     "text": [
      "\"LOREM IPSUM DOLOR SIT AMET, CONSECTETUR ADIPISCING ELIT, \n",
      "\n",
      "SED DO EIUSMOD TEMPOR INCIDIDUNT UT LABORE ET DOLORE MAGNA \n",
      "\n",
      "ALIQUA. UT ENIM AD MINIM VENIAM, QUIS NOSTRUD EXERCITATION \n",
      "\n",
      "ULLAMCO LABORIS NISI UT ALIQUIP EX EA COMMODO CONSEQUAT.\n",
      "\n",
      " DUIS AUTE IRURE DOLOR IN REPREHENDERIT IN VOLUPTATE VELIT \n",
      "\n",
      "ESSE CILLUM DOLORE EU FUGIAT NULLA PARIATUR. EXCEPTEUR SINT\n",
      "\n",
      " OCCAECAT CUPIDATAT NON PROIDENT, SUNT IN CULPA QUI OFFICIA\n",
      "\n",
      " DESERUNT MOLLIT ANIM ID EST LABORUM.\"\n"
     ]
    }
   ],
   "source": [
    "my_file = open('data/sample_upper.txt', 'r')\n",
    "\n",
    "for line in my_file:\n",
    "    print(line)\n",
    "    \n",
    "my_file.close()"
   ]
  },
  {
   "cell_type": "code",
   "execution_count": 73,
   "id": "c25c8972",
   "metadata": {},
   "outputs": [],
   "source": [
    "with open('data/sample_2.txt', 'r') as file:\n",
    "    file = file.readlines()\n",
    "    with open('data/sample_2.txt', 'w') as file_2:\n",
    "        file_2.writelines([line.upper() for line in file])"
   ]
  },
  {
   "cell_type": "code",
   "execution_count": null,
   "id": "346435a9",
   "metadata": {},
   "outputs": [],
   "source": []
  }
 ],
 "metadata": {
  "kernelspec": {
   "display_name": "atos",
   "language": "python",
   "name": "atos"
  },
  "language_info": {
   "codemirror_mode": {
    "name": "ipython",
    "version": 3
   },
   "file_extension": ".py",
   "mimetype": "text/x-python",
   "name": "python",
   "nbconvert_exporter": "python",
   "pygments_lexer": "ipython3",
   "version": "3.9.6"
  }
 },
 "nbformat": 4,
 "nbformat_minor": 5
}
